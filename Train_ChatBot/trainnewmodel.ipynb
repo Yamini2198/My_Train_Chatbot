{
 "cells": [
  {
   "cell_type": "code",
   "execution_count": 4,
   "metadata": {},
   "outputs": [
    {
     "name": "stdout",
     "output_type": "stream",
     "text": [
      "JSON file created successfully.\n"
     ]
    }
   ],
   "source": [
    "import json\n",
    "\n",
    "with open('traincodelist.json') as station_list:\n",
    "    station_data = json.load(station_list)\n",
    "\n",
    "data = []\n",
    "\n",
    "for item in station_data['data']:\n",
    "    data.append((\"Train departing from Mumbai to \" + item[\"name\"] + \" at 9:00 AM\", \"train\"))\n",
    "    data.append((\"Express train leaving Chennai for \" + item[\"name\"] + \" at 11:30 AM\", \"train\"))\n",
    "    data.append((\"Local train from Bangalore to \" + item[\"name\"] + \" at 10:45 AM\", \"train\"))\n",
    "    data.append((\"Train from Ahmedabad to \" + item[\"name\"] + \" at 12:15 PM\", \"train\"))\n",
    "    data.append((\"High-speed train departing from Delhi to \" + item[\"name\"] + \" at 8:00 AM\", \"train\"))\n",
    "    data.append((\"Morning train leaving Kolkata for \" + item[\"name\"] + \" at 7:45 AM\", \"train\"))\n",
    "    data.append((\"Express train from \" + item[\"name\"] + \" to Chennai at 3:00 PM\", \"train\"))\n",
    "    data.append((\"Local train departing from Pune to \" + item[\"name\"] + \" at 5:30 PM\", \"train\"))\n",
    "    data.append((\"Afternoon train from Chennai to \" + item[\"name\"] + \" at 1:00 PM\", \"train\"))\n",
    "    data.append((\"Late-night train leaving Bangalore for \" + item[\"name\"] + \" at 11:00 PM\", \"train\"))\n",
    "    data.append((\"Express train from Mumbai to \" + item[\"name\"] + \" at 4:30 PM\", \"train\"))\n",
    "    data.append((\"Local train departing from Delhi to \" + item[\"name\"] + \" at 6:15 AM\", \"train\"))\n",
    "    data.append((\"Fast train from Kolkata to \" + item[\"name\"] + \" at 10:00 AM\", \"train\"))\n",
    "    data.append((\"Train departing from Hyderabad to \" + item[\"name\"] + \" at 12:45 PM\", \"train\"))\n",
    "    data.append((\"Express train from \" + item[\"name\"] + \" to Chennai\", \"train\"))\n",
    "    data.append((\"Morning train departing from Hyderabad to \" + item[\"name\"], \"train\"))\n",
    "    data.append((\"Late-night train leaving Pune for \" + item[\"name\"], \"train\"))\n",
    "    data.append((\"Local train from Delhi to \" + item[\"name\"], \"train\"))\n",
    "    data.append((\"Fast train departing from Vaniyambadi to \" + item[\"name\"], \"train\"))\n",
    "    data.append((\"Afternoon train from Chennai to \" + item[\"name\"], \"train\"))\n",
    "    data.append((\"High-speed train leaving Vaniyambadi to \" + item[\"name\"], \"train\"))\n",
    "    data.append((\"From Vaniyambadi to \" + item[\"name\"], \"train\"))\n",
    "    data.append((\"Local train departing from Kolkata to \" + item[\"name\"], \"train\"))\n",
    "    data.append((\"Express train from Pune to \" + item[\"name\"], \"flight\"))\n",
    "    data.append((\"Night train departing from Ahmedabad to \" + item[\"name\"], \"bus\"))\n",
    "\n",
    "# Writing the data to a JSON file\n",
    "with open(\"train_data.json\", \"w\") as json_file:\n",
    "    json.dump(data, json_file, indent=4)\n",
    "\n",
    "print(\"JSON file created successfully.\")\n"
   ]
  }
 ],
 "metadata": {
  "kernelspec": {
   "display_name": "Python 3",
   "language": "python",
   "name": "python3"
  },
  "language_info": {
   "codemirror_mode": {
    "name": "ipython",
    "version": 3
   },
   "file_extension": ".py",
   "mimetype": "text/x-python",
   "name": "python",
   "nbconvert_exporter": "python",
   "pygments_lexer": "ipython3",
   "version": "3.12.3"
  }
 },
 "nbformat": 4,
 "nbformat_minor": 2
}
